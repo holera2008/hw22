{
  "nbformat": 4,
  "nbformat_minor": 0,
  "metadata": {
    "colab": {
      "provenance": [],
      "authorship_tag": "ABX9TyNhM+8zNbqe70f2ACeMg/fF",
      "include_colab_link": true
    },
    "kernelspec": {
      "name": "python3",
      "display_name": "Python 3"
    },
    "language_info": {
      "name": "python"
    }
  },
  "cells": [
    {
      "cell_type": "markdown",
      "metadata": {
        "id": "view-in-github",
        "colab_type": "text"
      },
      "source": [
        "<a href=\"https://colab.research.google.com/github/holera2008/hw22/blob/main/hw22.ipynb\" target=\"_parent\"><img src=\"https://colab.research.google.com/assets/colab-badge.svg\" alt=\"Open In Colab\"/></a>"
      ]
    },
    {
      "cell_type": "code",
      "execution_count": null,
      "metadata": {
        "id": "BDh-EVcL2IYg"
      },
      "outputs": [],
      "source": [
        "import re\n",
        "\n",
        "def generator_numbers(string):\n",
        "    result=re.findall(r'\\d+', string)\n",
        "    for i in result:\n",
        "        yield i\n",
        "\n",
        "\n",
        "def sum_profit(string, func):\n",
        "    sum_=0\n",
        "    for i in func(string):\n",
        "        sum_+=int(i)\n",
        "    return f'Total profit: ${sum_}.'\n",
        "\n",
        "\n",
        "if __name__=='__main__':\n",
        "    print(sum_profit(\"The resulting profit was: from the southern possessions $100, from the northern colonies $500, and the king gave $1000.\", generator_numbers))"
      ]
    }
  ]
}